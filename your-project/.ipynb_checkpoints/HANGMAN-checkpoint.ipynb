{
 "cells": [
  {
   "cell_type": "code",
   "execution_count": 66,
   "metadata": {},
   "outputs": [
    {
     "name": "stdout",
     "output_type": "stream",
     "text": [
      "{'east putney', 'hammersmith', 'southwark', 'embankment', 'clapham south', 'becontree', 'chesham', 'northolt', 'ealing common', 'heathrow terminal 5', 'ruislip', 'ruislip manor', 'south wimbledon', 'stepney green', 'chiswick park', 'baker street', 'bayswater', 'london bridge', 'tottenham court road', 'tottenham hale', 'brixton', 'holland park', 'finchley road', 'bounds green', 'ickenham', 'vauxhall', 'monument', 'neasden', 'roding valley', 'gloucester road', 'paddington', 'balham', 'dollis hill', 'finsbury park', 'rickmansworth', 'canons park', 'dagenham heathway', 'heathrow terminal 4', 'kensington (olympia)', 'newbury park', 'tooting bec', 'tower hill', 'west hampstead', 'bermondsey', 'fulham broadway', 'tooting broadway', 'west finchley', 'cockfosters', 'burnt oak', 'stockwell', 'acton town', 'mile end', 'wembley central', 'angel', 'willesden green', 'wimbledon', 'hounslow west', 'south ealing', 'chigwell', 'leytonstone', 'osterley', 'highbury & islington', 'knightsbridge', 'pinner', 'uxbridge', 'hounslow east', 'oakwood', 'west brompton', \"st. john's wood\", 'kenton', 'swiss cottage', 'wood lane', 'hillingdon', 'north ealing', 'oxford circus', 'mansion house', 'kennington', 'sloane square', 'piccadilly circus', 'green park', 'marylebone', 'boston manor', 'wembley park', 'temple', 'goldhawk road', 'seven sisters', 'blackhorse road', 'debden', 'croxley', 'maida vale', 'northfields', 'walthamstow central', 'west acton', 'euston square', 'stonebridge park', 'loughton', 'holborn', 'queensbury', ' ', 'canada water', 'redbridge', 'buckhurst hill', 'charing cross', 'harlesden', 'warren street', 'kingsbury', 'plaistow', 'hyde park corner', 'waterloo', 'east acton', 'farringdon', 'aldgate', 'hornchurch', 'turnham green', 'pimlico', 'edgware', 'euston', 'hainault', 'marble arch', 'hatton cross', 'westminster', 'lambeth north', 'harrow-on-the-hill', 'westbourne park', 'west kensington', 'royal oak', 'arsenal', 'chorleywood', 'golders green', 'gunnersbury', 'leyton', 'queensway', 'manor house', 'theydon bois', 'wanstead', 'oval', 'barons court', 'sudbury hill', 'hendon central', \"st. paul's\", 'clapham common', 'hounslow central', 'warwick avenue', 'wimbledon park', \"queen's park\", 'snaresbrook', 'bow road', 'bromley-by-bow', 'ravenscourt park', 'belsize park', 'fairlop', 'arnos grove', 'southfields', 'russell square', 'grange hill', 'stanmore', 'mill hill east', 'rayners lane', 'hanger lane', 'north wembley', \"shepherd's bush market\", 'upminster', 'elm park', 'south ruislip', 'kilburn park', 'finchley central', 'dagenham east', 'great portland street', 'south kensington', 'brent cross', 'barkingside', 'gants hill', 'elephant and castle', 'north acton', 'bethnal green', 'kentish town', 'turnpike lane', 'east ham', 'highgate', 'south woodford', 'tufnell park', 'wood green', 'edgware road', 'northwood hills', 'north greenwich', 'willesden junction', 'aldgate east', 'sudbury town', 'hampstead', 'watford', \"earl's court\", 'west ham', 'alperton', 'old street', 'barking', 'upminster bridge', 'west ruislip', 'holloway road', 'woodford', 'amersham', \"st. james's park\", 'canning town', \"regent's park\", 'woodside park', 'clapham north', 'north harrow', 'morden', 'preston road', 'cannon street', 'high barnet', 'kilburn', 'south kenton', 'leicester square', 'parsons green', 'victoria', 'northwood', 'mornington crescent', 'covent garden', 'kew gardens', 'kensal green', 'borough', 'south harrow', 'moor park', 'moorgate', 'caledonian road', 'notting hill gate', 'latimer road', 'putney bridge', 'southgate', 'upney', 'upton park', 'whitechapel', 'chalfont & latimer', 'canary wharf', 'blackfriars', 'chalk farm', 'bond street', 'high street kensington', \"shepherd's bush\", 'northwick park', 'perivale', 'colindale', 'ealing broadway', 'greenford', 'bank', 'lancaster gate', 'stratford', 'harrow & wealdstone', 'kings cross st pancras', 'camden town', 'colliers wood', 'heathrow terminals 1, 2, 3', 'richmond', 'chancery lane', 'eastcote', 'ladbroke grove', 'ruislip gardens', 'east finchley', 'liverpool street', 'park royal', 'totteridge & whetstone', 'stamford brook', 'archway', 'barbican', 'west harrow', 'goodge street', 'epping', 'white city'}\n"
     ]
    }
   ],
   "source": [
    "words_list = []\n",
    "file = open('ldn_underground.txt', \"r\")\n",
    "for line in file:\n",
    "    line = line.strip(\"\\n\")\n",
    "    line = line.lower()\n",
    "    words_list.append(line)\n",
    "ldn_words_set = set(words_list)\n",
    "print(ldn_words_set)"
   ]
  },
  {
   "cell_type": "code",
   "execution_count": 67,
   "metadata": {},
   "outputs": [
    {
     "data": {
      "text/plain": [
       "'wood lane'"
      ]
     },
     "execution_count": 67,
     "metadata": {},
     "output_type": "execute_result"
    }
   ],
   "source": [
    "#fonction pour que l'ordinateur choisisse un mot au hasard\n",
    "\n",
    "import random\n",
    "import re\n",
    "\n",
    "def cpu_word(words_set):\n",
    "    word_to_find = random.sample(words_set, 1)\n",
    "    return word_to_find\n",
    "\n",
    "cpu_word(ldn_words_set)[0]\n",
    "\n"
   ]
  },
  {
   "cell_type": "code",
   "execution_count": 68,
   "metadata": {},
   "outputs": [
    {
     "name": "stdout",
     "output_type": "stream",
     "text": [
      "[0]\n"
     ]
    }
   ],
   "source": [
    "#fonction qui cherche ou est la lettre donnée dans le code: \n",
    "def letter_in_word(letter, word_to_find):\n",
    "    indexes = [i for i,x in enumerate(word_to_find) if x == letter]\n",
    "    return indexes\n",
    "South_ken= letter_in_word('s', 'south kenton')\n",
    "print(South_ken)\n"
   ]
  },
  {
   "cell_type": "code",
   "execution_count": 69,
   "metadata": {},
   "outputs": [
    {
     "name": "stdout",
     "output_type": "stream",
     "text": [
      "k_ _ _ _ _ _ _ _ _ ' (_ _ _ _ _ _ _ )\n"
     ]
    }
   ],
   "source": [
    "#fonction qui donne le nombre de lettre à trouver et qui transforme les \"_\" en \"lettres\"\n",
    "\n",
    "def showcase_found_letters(indexes, word_to_find):\n",
    "    word_to_showcase = \"\"\n",
    "    current_index = 0\n",
    "    caractere_specifique = (' ', '.', \"&\",'(', ')', \"'\")\n",
    "    for letter in word_to_find:\n",
    "        if current_index in indexes:\n",
    "            word_to_showcase += letter\n",
    "        else:\n",
    "            if word_to_find[current_index] in caractere_specifique:\n",
    "                word_to_showcase += word_to_find[current_index]\n",
    "            else:\n",
    "                word_to_showcase += '_ '\n",
    "        \n",
    "        current_index += 1\n",
    "   \n",
    "    return word_to_showcase\n",
    "\n",
    "mot = showcase_found_letters([0], \"kensington' (olympia)\")\n",
    "    \n",
    "print(mot)"
   ]
  },
  {
   "cell_type": "code",
   "execution_count": 70,
   "metadata": {},
   "outputs": [
    {
     "name": "stdout",
     "output_type": "stream",
     "text": [
      "enter a letter or guess a word:\n",
      "\n"
     ]
    }
   ],
   "source": [
    "import re\n",
    "def input_check():\n",
    " \n",
    "    while True:\n",
    "        x = input('enter a letter or guess a word:')\n",
    "        x = x.lower()\n",
    "        if all ([re.match('\\W|[a-z]', c) for c in x]):\n",
    "            break\n",
    "        else:\n",
    "            print('there are some characters that are not letters, enter a letter or word again:')\n",
    "    return x\n",
    "\n",
    "input_solene = input_check()\n",
    "print(input_solene)"
   ]
  },
  {
   "cell_type": "code",
   "execution_count": null,
   "metadata": {},
   "outputs": [],
   "source": [
    "hangman =  (\n",
    "\n",
    "\"\"\"\n",
    "   _________\n",
    "    |/        \n",
    "    |              \n",
    "    |                \n",
    "    |                 \n",
    "    |               \n",
    "    |                   \n",
    "    |___                 \n",
    "    \"\"\",\n",
    "\n",
    "\"\"\"\n",
    "   _________\n",
    "    |/   |      \n",
    "    |              \n",
    "    |                \n",
    "    |                 \n",
    "    |               \n",
    "    |                   \n",
    "    |___                 \n",
    "    H\"\"\",\n",
    "\n",
    "\"\"\"\n",
    "   _________       \n",
    "    |/   |              \n",
    "    |   (_)\n",
    "    |                         \n",
    "    |                       \n",
    "    |                         \n",
    "    |                          \n",
    "    |___                       \n",
    "    HA\"\"\",\n",
    "\n",
    "\"\"\"\n",
    "   ________               \n",
    "    |/   |                   \n",
    "    |   (_)                  \n",
    "    |    |                     \n",
    "    |    |                    \n",
    "    |                           \n",
    "    |                            \n",
    "    |___                    \n",
    "    HAN\"\"\",\n",
    "\n",
    "\n",
    "\"\"\"\n",
    "   _________             \n",
    "    |/   |               \n",
    "    |   (_)                   \n",
    "    |   /|                     \n",
    "    |    |                    \n",
    "    |                        \n",
    "    |                          \n",
    "    |___                          \n",
    "    HANG\"\"\",\n",
    "\n",
    "\n",
    "\"\"\"\n",
    "   _________              \n",
    "    |/   |                     \n",
    "    |   (_)                     \n",
    "    |   /|\\                    \n",
    "    |    |                       \n",
    "    |                             \n",
    "    |                            \n",
    "    |___                          \n",
    "    HANGM\"\"\",\n",
    "\n",
    "\n",
    "\n",
    "\"\"\"\n",
    "   ________                   \n",
    "    |/   |                         \n",
    "    |   (_)                      \n",
    "    |   /|\\                             \n",
    "    |    |                          \n",
    "    |   /                            \n",
    "    |                                  \n",
    "    |___                              \n",
    "    HANGMA\"\"\",\n",
    "\n",
    "\n",
    "\"\"\"\n",
    "   ________\n",
    "    |/   |     \n",
    "    |   (_)    \n",
    "    |   /|\\           \n",
    "    |    |        \n",
    "    |   / \\        \n",
    "    |               \n",
    "    |___           \n",
    "    HANGMAN \n",
    "    \n",
    "    \"\"\")\n",
    "\n",
    "word_to_find = cpu_word(ldn_words_set)[0]\n",
    "\n",
    "\n",
    "index_all_word = []\n",
    "letter_found = []\n",
    "trial = 0\n",
    "\n",
    "    \n",
    "while trial < (len(hangman)-1): \n",
    "    player_letter = input_check()\n",
    "    if player_letter == word_to_find:\n",
    "        print(f\"well done! you win, the word was {word_to_find}\")\n",
    "        break\n",
    "    if player_letter == \"quit\":\n",
    "        print(\"GAME INTERRUPTED\")\n",
    "        break\n",
    "    if player_letter in letter_found:\n",
    "            player_letter = input('choice already made, enter an other letter:')\n",
    "            \n",
    "    letter_found.append(player_letter)\n",
    "    \n",
    "    letter_indexes = letter_in_word(player_letter, word_to_find)\n",
    "    \n",
    "    if letter_indexes == []:\n",
    "        trial += 1\n",
    "        print(f\"this was your {trial}th false attempt\")\n",
    "        print(hangman[trial])\n",
    "    index_all_word += letter_indexes\n",
    "    \n",
    "    word_to_showcase = showcase_found_letters(index_all_word, word_to_find)\n",
    "    print(word_to_showcase)\n",
    "    \n",
    "    if word_to_showcase == word_to_find:\n",
    "        print(f\"Well done! you win, the word was {word_to_find}\")\n",
    "        break\n",
    "    \n",
    "    \n",
    "    \n",
    "    \n",
    "if trial == (len(hangman)-1):\n",
    "    print(f\"Sorry, you lost, the word was {word_to_find}\")\n",
    "    \n",
    "    \n",
    "        \n",
    "\n",
    "    "
   ]
  },
  {
   "cell_type": "code",
   "execution_count": null,
   "metadata": {},
   "outputs": [],
   "source": []
  }
 ],
 "metadata": {
  "kernelspec": {
   "display_name": "Python 3",
   "language": "python",
   "name": "python3"
  }
 },
 "nbformat": 4,
 "nbformat_minor": 4
}
